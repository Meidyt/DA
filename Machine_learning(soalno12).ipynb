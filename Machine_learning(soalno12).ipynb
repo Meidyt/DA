{
  "nbformat": 4,
  "nbformat_minor": 0,
  "metadata": {
    "colab": {
      "name": "Untitled7.ipynb",
      "provenance": [],
      "collapsed_sections": [
        "Ct69O6_J2mNP",
        "cCq9YTwKGpXU",
        "kLl8l4lFGxRc",
        "OEBE03VNGiF7",
        "4RkOtEWvGfZZ",
        "UovYpc-QGTii"
      ],
      "authorship_tag": "ABX9TyPU7FNb5t/iWDeHYviVD8r/",
      "include_colab_link": true
    },
    "kernelspec": {
      "name": "python3",
      "display_name": "Python 3"
    },
    "language_info": {
      "name": "python"
    }
  },
  "cells": [
    {
      "cell_type": "markdown",
      "metadata": {
        "id": "view-in-github",
        "colab_type": "text"
      },
      "source": [
        "<a href=\"https://colab.research.google.com/github/Meidyt/DA/blob/main/Machine_learning(soalno12).ipynb\" target=\"_parent\"><img src=\"https://colab.research.google.com/assets/colab-badge.svg\" alt=\"Open In Colab\"/></a>"
      ]
    },
    {
      "cell_type": "markdown",
      "metadata": {
        "id": "GhXexmvr8Th7"
      },
      "source": [
        "# Tes Digital Talent\n",
        "Meidy Tataluckyta - 21240-0000070"
      ]
    },
    {
      "cell_type": "markdown",
      "metadata": {
        "id": "jW0S0xG7HLh6"
      },
      "source": [
        "## Preprocessing & EDA"
      ]
    },
    {
      "cell_type": "code",
      "metadata": {
        "id": "DvJfX04rlW1I"
      },
      "source": [
        "import pandas as pd\n",
        "import pylab as pl\n",
        "import numpy as np\n",
        "import scipy.optimize as opt\n",
        "from sklearn.naive_bayes import GaussianNB \n",
        "from sklearn import metrics\n",
        "from sklearn.preprocessing import LabelEncoder\n",
        "from sklearn import preprocessing\n",
        "%matplotlib inline \n",
        "import matplotlib.pyplot as plt"
      ],
      "execution_count": null,
      "outputs": []
    },
    {
      "cell_type": "code",
      "metadata": {
        "colab": {
          "base_uri": "https://localhost:8080/",
          "height": 428
        },
        "id": "RaqBKosHlKVE",
        "outputId": "bb3e36c6-8c92-4a5a-a4f9-b393496612d1"
      },
      "source": [
        "df_status =  pd.read_csv('https://raw.githubusercontent.com/Meidyt/DA/main/Telco_customer_churn_status.csv', sep =\",\")\n",
        "df_demography = pd.read_csv('https://raw.githubusercontent.com/Meidyt/DA/main/Telco_customer_churn_demographics.csv', sep =\",\")\n",
        "df_service =  pd.read_csv('https://raw.githubusercontent.com/Meidyt/DA/main/Telco_customer_churn_services.csv', sep =\",\")\n",
        "df1= df_demography.merge(df_status, on=['Customer_ID','Count'], how='inner')\n",
        "df= df1.merge(df_service, on=['Customer_ID','Count'], how='inner')\n",
        "\n",
        "df.head() "
      ],
      "execution_count": null,
      "outputs": [
        {
          "output_type": "execute_result",
          "data": {
            "text/html": [
              "<div>\n",
              "<style scoped>\n",
              "    .dataframe tbody tr th:only-of-type {\n",
              "        vertical-align: middle;\n",
              "    }\n",
              "\n",
              "    .dataframe tbody tr th {\n",
              "        vertical-align: top;\n",
              "    }\n",
              "\n",
              "    .dataframe thead th {\n",
              "        text-align: right;\n",
              "    }\n",
              "</style>\n",
              "<table border=\"1\" class=\"dataframe\">\n",
              "  <thead>\n",
              "    <tr style=\"text-align: right;\">\n",
              "      <th></th>\n",
              "      <th>Customer_ID</th>\n",
              "      <th>Count</th>\n",
              "      <th>Gender</th>\n",
              "      <th>Age</th>\n",
              "      <th>Under_30</th>\n",
              "      <th>Senior_Citizen</th>\n",
              "      <th>Married</th>\n",
              "      <th>Dependents</th>\n",
              "      <th>Number_of_Dependents</th>\n",
              "      <th>Quarter_x</th>\n",
              "      <th>Satisfaction_Score</th>\n",
              "      <th>Customer_Status</th>\n",
              "      <th>Churn_Label</th>\n",
              "      <th>Churn_Value</th>\n",
              "      <th>Churn_Score</th>\n",
              "      <th>CLTV</th>\n",
              "      <th>Churn_Category</th>\n",
              "      <th>Churn_Reason</th>\n",
              "      <th>Quarter_y</th>\n",
              "      <th>Referred a Friend</th>\n",
              "      <th>Number of Referrals</th>\n",
              "      <th>Tenure in Months</th>\n",
              "      <th>Offer</th>\n",
              "      <th>Phone Service</th>\n",
              "      <th>Avg Monthly Long Distance Charges</th>\n",
              "      <th>Multiple Lines</th>\n",
              "      <th>Internet Service</th>\n",
              "      <th>Internet Type</th>\n",
              "      <th>Avg Monthly GB Download</th>\n",
              "      <th>Online Security</th>\n",
              "      <th>Online Backup</th>\n",
              "      <th>Device Protection Plan</th>\n",
              "      <th>Premium Tech Support</th>\n",
              "      <th>Streaming TV</th>\n",
              "      <th>Streaming Movies</th>\n",
              "      <th>Streaming Music</th>\n",
              "      <th>Unlimited Data</th>\n",
              "      <th>Contract</th>\n",
              "      <th>Paperless Billing</th>\n",
              "      <th>Payment Method</th>\n",
              "      <th>Monthly_Charge</th>\n",
              "      <th>Total Charges</th>\n",
              "      <th>Total Refunds</th>\n",
              "      <th>Total Extra Data Charges</th>\n",
              "      <th>Total Long Distance Charges</th>\n",
              "      <th>Total_revenue</th>\n",
              "    </tr>\n",
              "  </thead>\n",
              "  <tbody>\n",
              "    <tr>\n",
              "      <th>0</th>\n",
              "      <td>8779-QRDMV</td>\n",
              "      <td>1</td>\n",
              "      <td>Male</td>\n",
              "      <td>78</td>\n",
              "      <td>No</td>\n",
              "      <td>Yes</td>\n",
              "      <td>No</td>\n",
              "      <td>No</td>\n",
              "      <td>0</td>\n",
              "      <td>Q3</td>\n",
              "      <td>3</td>\n",
              "      <td>Churned</td>\n",
              "      <td>Yes</td>\n",
              "      <td>1</td>\n",
              "      <td>91</td>\n",
              "      <td>5433</td>\n",
              "      <td>Competitor</td>\n",
              "      <td>Competitor offered more data</td>\n",
              "      <td>Q3</td>\n",
              "      <td>No</td>\n",
              "      <td>0</td>\n",
              "      <td>1</td>\n",
              "      <td>None</td>\n",
              "      <td>No</td>\n",
              "      <td>0.00</td>\n",
              "      <td>No</td>\n",
              "      <td>Yes</td>\n",
              "      <td>DSL</td>\n",
              "      <td>8</td>\n",
              "      <td>No</td>\n",
              "      <td>No</td>\n",
              "      <td>Yes</td>\n",
              "      <td>No</td>\n",
              "      <td>No</td>\n",
              "      <td>Yes</td>\n",
              "      <td>No</td>\n",
              "      <td>No</td>\n",
              "      <td>Month-to-Month</td>\n",
              "      <td>Yes</td>\n",
              "      <td>Bank Withdrawal</td>\n",
              "      <td>39.65</td>\n",
              "      <td>39.65</td>\n",
              "      <td>0.00</td>\n",
              "      <td>20</td>\n",
              "      <td>0.00</td>\n",
              "      <td>59.65</td>\n",
              "    </tr>\n",
              "    <tr>\n",
              "      <th>1</th>\n",
              "      <td>7495-OOKFY</td>\n",
              "      <td>1</td>\n",
              "      <td>Female</td>\n",
              "      <td>74</td>\n",
              "      <td>No</td>\n",
              "      <td>Yes</td>\n",
              "      <td>Yes</td>\n",
              "      <td>Yes</td>\n",
              "      <td>1</td>\n",
              "      <td>Q3</td>\n",
              "      <td>3</td>\n",
              "      <td>Churned</td>\n",
              "      <td>Yes</td>\n",
              "      <td>1</td>\n",
              "      <td>69</td>\n",
              "      <td>5302</td>\n",
              "      <td>Competitor</td>\n",
              "      <td>Competitor made better offer</td>\n",
              "      <td>Q3</td>\n",
              "      <td>Yes</td>\n",
              "      <td>1</td>\n",
              "      <td>8</td>\n",
              "      <td>Offer E</td>\n",
              "      <td>Yes</td>\n",
              "      <td>48.85</td>\n",
              "      <td>Yes</td>\n",
              "      <td>Yes</td>\n",
              "      <td>Fiber Optic</td>\n",
              "      <td>17</td>\n",
              "      <td>No</td>\n",
              "      <td>Yes</td>\n",
              "      <td>No</td>\n",
              "      <td>No</td>\n",
              "      <td>No</td>\n",
              "      <td>No</td>\n",
              "      <td>No</td>\n",
              "      <td>Yes</td>\n",
              "      <td>Month-to-Month</td>\n",
              "      <td>Yes</td>\n",
              "      <td>Credit Card</td>\n",
              "      <td>80.65</td>\n",
              "      <td>633.30</td>\n",
              "      <td>0.00</td>\n",
              "      <td>0</td>\n",
              "      <td>390.80</td>\n",
              "      <td>1024.10</td>\n",
              "    </tr>\n",
              "    <tr>\n",
              "      <th>2</th>\n",
              "      <td>1658-BYGOY</td>\n",
              "      <td>1</td>\n",
              "      <td>Male</td>\n",
              "      <td>71</td>\n",
              "      <td>No</td>\n",
              "      <td>Yes</td>\n",
              "      <td>No</td>\n",
              "      <td>Yes</td>\n",
              "      <td>3</td>\n",
              "      <td>Q3</td>\n",
              "      <td>2</td>\n",
              "      <td>Churned</td>\n",
              "      <td>Yes</td>\n",
              "      <td>1</td>\n",
              "      <td>81</td>\n",
              "      <td>3179</td>\n",
              "      <td>Competitor</td>\n",
              "      <td>Competitor made better offer</td>\n",
              "      <td>Q3</td>\n",
              "      <td>No</td>\n",
              "      <td>0</td>\n",
              "      <td>18</td>\n",
              "      <td>Offer D</td>\n",
              "      <td>Yes</td>\n",
              "      <td>11.33</td>\n",
              "      <td>Yes</td>\n",
              "      <td>Yes</td>\n",
              "      <td>Fiber Optic</td>\n",
              "      <td>52</td>\n",
              "      <td>No</td>\n",
              "      <td>No</td>\n",
              "      <td>No</td>\n",
              "      <td>No</td>\n",
              "      <td>Yes</td>\n",
              "      <td>Yes</td>\n",
              "      <td>Yes</td>\n",
              "      <td>Yes</td>\n",
              "      <td>Month-to-Month</td>\n",
              "      <td>Yes</td>\n",
              "      <td>Bank Withdrawal</td>\n",
              "      <td>95.45</td>\n",
              "      <td>1752.55</td>\n",
              "      <td>45.61</td>\n",
              "      <td>0</td>\n",
              "      <td>203.94</td>\n",
              "      <td>1910.88</td>\n",
              "    </tr>\n",
              "    <tr>\n",
              "      <th>3</th>\n",
              "      <td>4598-XLKNJ</td>\n",
              "      <td>1</td>\n",
              "      <td>Female</td>\n",
              "      <td>78</td>\n",
              "      <td>No</td>\n",
              "      <td>Yes</td>\n",
              "      <td>Yes</td>\n",
              "      <td>Yes</td>\n",
              "      <td>1</td>\n",
              "      <td>Q3</td>\n",
              "      <td>2</td>\n",
              "      <td>Churned</td>\n",
              "      <td>Yes</td>\n",
              "      <td>1</td>\n",
              "      <td>88</td>\n",
              "      <td>5337</td>\n",
              "      <td>Dissatisfaction</td>\n",
              "      <td>Limited range of services</td>\n",
              "      <td>Q3</td>\n",
              "      <td>Yes</td>\n",
              "      <td>1</td>\n",
              "      <td>25</td>\n",
              "      <td>Offer C</td>\n",
              "      <td>Yes</td>\n",
              "      <td>19.76</td>\n",
              "      <td>No</td>\n",
              "      <td>Yes</td>\n",
              "      <td>Fiber Optic</td>\n",
              "      <td>12</td>\n",
              "      <td>No</td>\n",
              "      <td>Yes</td>\n",
              "      <td>Yes</td>\n",
              "      <td>No</td>\n",
              "      <td>Yes</td>\n",
              "      <td>Yes</td>\n",
              "      <td>No</td>\n",
              "      <td>Yes</td>\n",
              "      <td>Month-to-Month</td>\n",
              "      <td>Yes</td>\n",
              "      <td>Bank Withdrawal</td>\n",
              "      <td>98.50</td>\n",
              "      <td>2514.50</td>\n",
              "      <td>13.43</td>\n",
              "      <td>0</td>\n",
              "      <td>494.00</td>\n",
              "      <td>2995.07</td>\n",
              "    </tr>\n",
              "    <tr>\n",
              "      <th>4</th>\n",
              "      <td>4846-WHAFZ</td>\n",
              "      <td>1</td>\n",
              "      <td>Female</td>\n",
              "      <td>80</td>\n",
              "      <td>No</td>\n",
              "      <td>Yes</td>\n",
              "      <td>Yes</td>\n",
              "      <td>Yes</td>\n",
              "      <td>1</td>\n",
              "      <td>Q3</td>\n",
              "      <td>2</td>\n",
              "      <td>Churned</td>\n",
              "      <td>Yes</td>\n",
              "      <td>1</td>\n",
              "      <td>67</td>\n",
              "      <td>2793</td>\n",
              "      <td>Price</td>\n",
              "      <td>Extra data charges</td>\n",
              "      <td>Q3</td>\n",
              "      <td>Yes</td>\n",
              "      <td>1</td>\n",
              "      <td>37</td>\n",
              "      <td>Offer C</td>\n",
              "      <td>Yes</td>\n",
              "      <td>6.33</td>\n",
              "      <td>Yes</td>\n",
              "      <td>Yes</td>\n",
              "      <td>Fiber Optic</td>\n",
              "      <td>14</td>\n",
              "      <td>No</td>\n",
              "      <td>No</td>\n",
              "      <td>No</td>\n",
              "      <td>No</td>\n",
              "      <td>No</td>\n",
              "      <td>No</td>\n",
              "      <td>No</td>\n",
              "      <td>Yes</td>\n",
              "      <td>Month-to-Month</td>\n",
              "      <td>Yes</td>\n",
              "      <td>Bank Withdrawal</td>\n",
              "      <td>76.50</td>\n",
              "      <td>2868.15</td>\n",
              "      <td>0.00</td>\n",
              "      <td>0</td>\n",
              "      <td>234.21</td>\n",
              "      <td>3102.36</td>\n",
              "    </tr>\n",
              "  </tbody>\n",
              "</table>\n",
              "</div>"
            ],
            "text/plain": [
              "  Customer_ID  Count  ... Total Long Distance Charges  Total_revenue\n",
              "0  8779-QRDMV      1  ...                        0.00          59.65\n",
              "1  7495-OOKFY      1  ...                      390.80        1024.10\n",
              "2  1658-BYGOY      1  ...                      203.94        1910.88\n",
              "3  4598-XLKNJ      1  ...                      494.00        2995.07\n",
              "4  4846-WHAFZ      1  ...                      234.21        3102.36\n",
              "\n",
              "[5 rows x 46 columns]"
            ]
          },
          "metadata": {},
          "execution_count": 3
        }
      ]
    },
    {
      "cell_type": "code",
      "metadata": {
        "colab": {
          "base_uri": "https://localhost:8080/"
        },
        "id": "fZFWn5Zc7tXZ",
        "outputId": "f4b4e520-7986-4608-a266-cb6dd24df515"
      },
      "source": [
        "df.info()"
      ],
      "execution_count": null,
      "outputs": [
        {
          "output_type": "stream",
          "name": "stdout",
          "text": [
            "<class 'pandas.core.frame.DataFrame'>\n",
            "Int64Index: 7043 entries, 0 to 7042\n",
            "Data columns (total 46 columns):\n",
            " #   Column                             Non-Null Count  Dtype  \n",
            "---  ------                             --------------  -----  \n",
            " 0   Customer_ID                        7043 non-null   object \n",
            " 1   Count                              7043 non-null   int64  \n",
            " 2   Gender                             7043 non-null   object \n",
            " 3   Age                                7043 non-null   int64  \n",
            " 4   Under_30                           7043 non-null   object \n",
            " 5   Senior_Citizen                     7043 non-null   object \n",
            " 6   Married                            7043 non-null   object \n",
            " 7   Dependents                         7043 non-null   object \n",
            " 8   Number_of_Dependents               7043 non-null   int64  \n",
            " 9   Quarter_x                          7043 non-null   object \n",
            " 10  Satisfaction_Score                 7043 non-null   int64  \n",
            " 11  Customer_Status                    7043 non-null   object \n",
            " 12  Churn_Label                        7043 non-null   object \n",
            " 13  Churn_Value                        7043 non-null   int64  \n",
            " 14  Churn_Score                        7043 non-null   int64  \n",
            " 15  CLTV                               7043 non-null   int64  \n",
            " 16  Churn_Category                     1869 non-null   object \n",
            " 17  Churn_Reason                       1869 non-null   object \n",
            " 18  Quarter_y                          7043 non-null   object \n",
            " 19  Referred a Friend                  7043 non-null   object \n",
            " 20  Number of Referrals                7043 non-null   int64  \n",
            " 21  Tenure in Months                   7043 non-null   int64  \n",
            " 22  Offer                              7043 non-null   object \n",
            " 23  Phone Service                      7043 non-null   object \n",
            " 24  Avg Monthly Long Distance Charges  7043 non-null   float64\n",
            " 25  Multiple Lines                     7043 non-null   object \n",
            " 26  Internet Service                   7043 non-null   object \n",
            " 27  Internet Type                      7043 non-null   object \n",
            " 28  Avg Monthly GB Download            7043 non-null   int64  \n",
            " 29  Online Security                    7043 non-null   object \n",
            " 30  Online Backup                      7043 non-null   object \n",
            " 31  Device Protection Plan             7043 non-null   object \n",
            " 32  Premium Tech Support               7043 non-null   object \n",
            " 33  Streaming TV                       7043 non-null   object \n",
            " 34  Streaming Movies                   7043 non-null   object \n",
            " 35  Streaming Music                    7043 non-null   object \n",
            " 36  Unlimited Data                     7043 non-null   object \n",
            " 37  Contract                           7043 non-null   object \n",
            " 38  Paperless Billing                  7043 non-null   object \n",
            " 39  Payment Method                     7043 non-null   object \n",
            " 40  Monthly_Charge                     7043 non-null   float64\n",
            " 41  Total Charges                      7043 non-null   float64\n",
            " 42  Total Refunds                      7043 non-null   float64\n",
            " 43  Total Extra Data Charges           7043 non-null   int64  \n",
            " 44  Total Long Distance Charges        7043 non-null   float64\n",
            " 45  Total_revenue                      7043 non-null   float64\n",
            "dtypes: float64(6), int64(11), object(29)\n",
            "memory usage: 2.5+ MB\n"
          ]
        }
      ]
    },
    {
      "cell_type": "code",
      "metadata": {
        "colab": {
          "base_uri": "https://localhost:8080/",
          "height": 428
        },
        "id": "XcjaNFqtltEs",
        "outputId": "f37d7caa-569c-4a87-89d6-0a4d7f2fc8c6"
      },
      "source": [
        "df[\"Churn_Label\"] = df[\"Churn_Label\"].map({\"Yes\":1,\"No\":0})\n",
        "df[\"Gender\"] = df[\"Gender\"].map({\"Male\":1,\"Female\":0})  \n",
        "df[\"Under_30\"] = df[\"Under_30\"].map({\"Yes\":1,\"No\":0}) \n",
        "df[\"Married\"] = df[\"Married\"].map({\"Yes\":1,\"No\":0})\n",
        "df[\"Dependents\"] = df[\"Dependents\"].map({\"Yes\":1,\"No\":0})\n",
        "df[\"Senior_Citizen\"] = df[\"Senior_Citizen\"].map({\"Yes\":1,\"No\":0})\n",
        "df[\"Customer_Status\"] = df[\"Customer_Status\"].map({\"Churned\":0,\"Joined\":1, \"Stayed\":2})\n",
        "df.head()"
      ],
      "execution_count": null,
      "outputs": [
        {
          "output_type": "execute_result",
          "data": {
            "text/html": [
              "<div>\n",
              "<style scoped>\n",
              "    .dataframe tbody tr th:only-of-type {\n",
              "        vertical-align: middle;\n",
              "    }\n",
              "\n",
              "    .dataframe tbody tr th {\n",
              "        vertical-align: top;\n",
              "    }\n",
              "\n",
              "    .dataframe thead th {\n",
              "        text-align: right;\n",
              "    }\n",
              "</style>\n",
              "<table border=\"1\" class=\"dataframe\">\n",
              "  <thead>\n",
              "    <tr style=\"text-align: right;\">\n",
              "      <th></th>\n",
              "      <th>Customer_ID</th>\n",
              "      <th>Count</th>\n",
              "      <th>Gender</th>\n",
              "      <th>Age</th>\n",
              "      <th>Under_30</th>\n",
              "      <th>Senior_Citizen</th>\n",
              "      <th>Married</th>\n",
              "      <th>Dependents</th>\n",
              "      <th>Number_of_Dependents</th>\n",
              "      <th>Quarter_x</th>\n",
              "      <th>Satisfaction_Score</th>\n",
              "      <th>Customer_Status</th>\n",
              "      <th>Churn_Label</th>\n",
              "      <th>Churn_Value</th>\n",
              "      <th>Churn_Score</th>\n",
              "      <th>CLTV</th>\n",
              "      <th>Churn_Category</th>\n",
              "      <th>Churn_Reason</th>\n",
              "      <th>Quarter_y</th>\n",
              "      <th>Referred a Friend</th>\n",
              "      <th>Number of Referrals</th>\n",
              "      <th>Tenure in Months</th>\n",
              "      <th>Offer</th>\n",
              "      <th>Phone Service</th>\n",
              "      <th>Avg Monthly Long Distance Charges</th>\n",
              "      <th>Multiple Lines</th>\n",
              "      <th>Internet Service</th>\n",
              "      <th>Internet Type</th>\n",
              "      <th>Avg Monthly GB Download</th>\n",
              "      <th>Online Security</th>\n",
              "      <th>Online Backup</th>\n",
              "      <th>Device Protection Plan</th>\n",
              "      <th>Premium Tech Support</th>\n",
              "      <th>Streaming TV</th>\n",
              "      <th>Streaming Movies</th>\n",
              "      <th>Streaming Music</th>\n",
              "      <th>Unlimited Data</th>\n",
              "      <th>Contract</th>\n",
              "      <th>Paperless Billing</th>\n",
              "      <th>Payment Method</th>\n",
              "      <th>Monthly_Charge</th>\n",
              "      <th>Total Charges</th>\n",
              "      <th>Total Refunds</th>\n",
              "      <th>Total Extra Data Charges</th>\n",
              "      <th>Total Long Distance Charges</th>\n",
              "      <th>Total_revenue</th>\n",
              "    </tr>\n",
              "  </thead>\n",
              "  <tbody>\n",
              "    <tr>\n",
              "      <th>0</th>\n",
              "      <td>8779-QRDMV</td>\n",
              "      <td>1</td>\n",
              "      <td>1</td>\n",
              "      <td>78</td>\n",
              "      <td>0</td>\n",
              "      <td>1</td>\n",
              "      <td>0</td>\n",
              "      <td>0</td>\n",
              "      <td>0</td>\n",
              "      <td>Q3</td>\n",
              "      <td>3</td>\n",
              "      <td>0</td>\n",
              "      <td>1</td>\n",
              "      <td>1</td>\n",
              "      <td>91</td>\n",
              "      <td>5433</td>\n",
              "      <td>Competitor</td>\n",
              "      <td>Competitor offered more data</td>\n",
              "      <td>Q3</td>\n",
              "      <td>No</td>\n",
              "      <td>0</td>\n",
              "      <td>1</td>\n",
              "      <td>None</td>\n",
              "      <td>No</td>\n",
              "      <td>0.00</td>\n",
              "      <td>No</td>\n",
              "      <td>Yes</td>\n",
              "      <td>DSL</td>\n",
              "      <td>8</td>\n",
              "      <td>No</td>\n",
              "      <td>No</td>\n",
              "      <td>Yes</td>\n",
              "      <td>No</td>\n",
              "      <td>No</td>\n",
              "      <td>Yes</td>\n",
              "      <td>No</td>\n",
              "      <td>No</td>\n",
              "      <td>Month-to-Month</td>\n",
              "      <td>Yes</td>\n",
              "      <td>Bank Withdrawal</td>\n",
              "      <td>39.65</td>\n",
              "      <td>39.65</td>\n",
              "      <td>0.00</td>\n",
              "      <td>20</td>\n",
              "      <td>0.00</td>\n",
              "      <td>59.65</td>\n",
              "    </tr>\n",
              "    <tr>\n",
              "      <th>1</th>\n",
              "      <td>7495-OOKFY</td>\n",
              "      <td>1</td>\n",
              "      <td>0</td>\n",
              "      <td>74</td>\n",
              "      <td>0</td>\n",
              "      <td>1</td>\n",
              "      <td>1</td>\n",
              "      <td>1</td>\n",
              "      <td>1</td>\n",
              "      <td>Q3</td>\n",
              "      <td>3</td>\n",
              "      <td>0</td>\n",
              "      <td>1</td>\n",
              "      <td>1</td>\n",
              "      <td>69</td>\n",
              "      <td>5302</td>\n",
              "      <td>Competitor</td>\n",
              "      <td>Competitor made better offer</td>\n",
              "      <td>Q3</td>\n",
              "      <td>Yes</td>\n",
              "      <td>1</td>\n",
              "      <td>8</td>\n",
              "      <td>Offer E</td>\n",
              "      <td>Yes</td>\n",
              "      <td>48.85</td>\n",
              "      <td>Yes</td>\n",
              "      <td>Yes</td>\n",
              "      <td>Fiber Optic</td>\n",
              "      <td>17</td>\n",
              "      <td>No</td>\n",
              "      <td>Yes</td>\n",
              "      <td>No</td>\n",
              "      <td>No</td>\n",
              "      <td>No</td>\n",
              "      <td>No</td>\n",
              "      <td>No</td>\n",
              "      <td>Yes</td>\n",
              "      <td>Month-to-Month</td>\n",
              "      <td>Yes</td>\n",
              "      <td>Credit Card</td>\n",
              "      <td>80.65</td>\n",
              "      <td>633.30</td>\n",
              "      <td>0.00</td>\n",
              "      <td>0</td>\n",
              "      <td>390.80</td>\n",
              "      <td>1024.10</td>\n",
              "    </tr>\n",
              "    <tr>\n",
              "      <th>2</th>\n",
              "      <td>1658-BYGOY</td>\n",
              "      <td>1</td>\n",
              "      <td>1</td>\n",
              "      <td>71</td>\n",
              "      <td>0</td>\n",
              "      <td>1</td>\n",
              "      <td>0</td>\n",
              "      <td>1</td>\n",
              "      <td>3</td>\n",
              "      <td>Q3</td>\n",
              "      <td>2</td>\n",
              "      <td>0</td>\n",
              "      <td>1</td>\n",
              "      <td>1</td>\n",
              "      <td>81</td>\n",
              "      <td>3179</td>\n",
              "      <td>Competitor</td>\n",
              "      <td>Competitor made better offer</td>\n",
              "      <td>Q3</td>\n",
              "      <td>No</td>\n",
              "      <td>0</td>\n",
              "      <td>18</td>\n",
              "      <td>Offer D</td>\n",
              "      <td>Yes</td>\n",
              "      <td>11.33</td>\n",
              "      <td>Yes</td>\n",
              "      <td>Yes</td>\n",
              "      <td>Fiber Optic</td>\n",
              "      <td>52</td>\n",
              "      <td>No</td>\n",
              "      <td>No</td>\n",
              "      <td>No</td>\n",
              "      <td>No</td>\n",
              "      <td>Yes</td>\n",
              "      <td>Yes</td>\n",
              "      <td>Yes</td>\n",
              "      <td>Yes</td>\n",
              "      <td>Month-to-Month</td>\n",
              "      <td>Yes</td>\n",
              "      <td>Bank Withdrawal</td>\n",
              "      <td>95.45</td>\n",
              "      <td>1752.55</td>\n",
              "      <td>45.61</td>\n",
              "      <td>0</td>\n",
              "      <td>203.94</td>\n",
              "      <td>1910.88</td>\n",
              "    </tr>\n",
              "    <tr>\n",
              "      <th>3</th>\n",
              "      <td>4598-XLKNJ</td>\n",
              "      <td>1</td>\n",
              "      <td>0</td>\n",
              "      <td>78</td>\n",
              "      <td>0</td>\n",
              "      <td>1</td>\n",
              "      <td>1</td>\n",
              "      <td>1</td>\n",
              "      <td>1</td>\n",
              "      <td>Q3</td>\n",
              "      <td>2</td>\n",
              "      <td>0</td>\n",
              "      <td>1</td>\n",
              "      <td>1</td>\n",
              "      <td>88</td>\n",
              "      <td>5337</td>\n",
              "      <td>Dissatisfaction</td>\n",
              "      <td>Limited range of services</td>\n",
              "      <td>Q3</td>\n",
              "      <td>Yes</td>\n",
              "      <td>1</td>\n",
              "      <td>25</td>\n",
              "      <td>Offer C</td>\n",
              "      <td>Yes</td>\n",
              "      <td>19.76</td>\n",
              "      <td>No</td>\n",
              "      <td>Yes</td>\n",
              "      <td>Fiber Optic</td>\n",
              "      <td>12</td>\n",
              "      <td>No</td>\n",
              "      <td>Yes</td>\n",
              "      <td>Yes</td>\n",
              "      <td>No</td>\n",
              "      <td>Yes</td>\n",
              "      <td>Yes</td>\n",
              "      <td>No</td>\n",
              "      <td>Yes</td>\n",
              "      <td>Month-to-Month</td>\n",
              "      <td>Yes</td>\n",
              "      <td>Bank Withdrawal</td>\n",
              "      <td>98.50</td>\n",
              "      <td>2514.50</td>\n",
              "      <td>13.43</td>\n",
              "      <td>0</td>\n",
              "      <td>494.00</td>\n",
              "      <td>2995.07</td>\n",
              "    </tr>\n",
              "    <tr>\n",
              "      <th>4</th>\n",
              "      <td>4846-WHAFZ</td>\n",
              "      <td>1</td>\n",
              "      <td>0</td>\n",
              "      <td>80</td>\n",
              "      <td>0</td>\n",
              "      <td>1</td>\n",
              "      <td>1</td>\n",
              "      <td>1</td>\n",
              "      <td>1</td>\n",
              "      <td>Q3</td>\n",
              "      <td>2</td>\n",
              "      <td>0</td>\n",
              "      <td>1</td>\n",
              "      <td>1</td>\n",
              "      <td>67</td>\n",
              "      <td>2793</td>\n",
              "      <td>Price</td>\n",
              "      <td>Extra data charges</td>\n",
              "      <td>Q3</td>\n",
              "      <td>Yes</td>\n",
              "      <td>1</td>\n",
              "      <td>37</td>\n",
              "      <td>Offer C</td>\n",
              "      <td>Yes</td>\n",
              "      <td>6.33</td>\n",
              "      <td>Yes</td>\n",
              "      <td>Yes</td>\n",
              "      <td>Fiber Optic</td>\n",
              "      <td>14</td>\n",
              "      <td>No</td>\n",
              "      <td>No</td>\n",
              "      <td>No</td>\n",
              "      <td>No</td>\n",
              "      <td>No</td>\n",
              "      <td>No</td>\n",
              "      <td>No</td>\n",
              "      <td>Yes</td>\n",
              "      <td>Month-to-Month</td>\n",
              "      <td>Yes</td>\n",
              "      <td>Bank Withdrawal</td>\n",
              "      <td>76.50</td>\n",
              "      <td>2868.15</td>\n",
              "      <td>0.00</td>\n",
              "      <td>0</td>\n",
              "      <td>234.21</td>\n",
              "      <td>3102.36</td>\n",
              "    </tr>\n",
              "  </tbody>\n",
              "</table>\n",
              "</div>"
            ],
            "text/plain": [
              "  Customer_ID  Count  ...  Total Long Distance Charges  Total_revenue\n",
              "0  8779-QRDMV      1  ...                         0.00          59.65\n",
              "1  7495-OOKFY      1  ...                       390.80        1024.10\n",
              "2  1658-BYGOY      1  ...                       203.94        1910.88\n",
              "3  4598-XLKNJ      1  ...                       494.00        2995.07\n",
              "4  4846-WHAFZ      1  ...                       234.21        3102.36\n",
              "\n",
              "[5 rows x 46 columns]"
            ]
          },
          "metadata": {},
          "execution_count": 5
        }
      ]
    },
    {
      "cell_type": "code",
      "metadata": {
        "id": "fRwUm81oFH4K"
      },
      "source": [
        "from sklearn.preprocessing import StandardScaler\n",
        "cols_to_norm = ['Age','Total_revenue']\n",
        "df[cols_to_norm] = StandardScaler().fit_transform(df[cols_to_norm])"
      ],
      "execution_count": null,
      "outputs": []
    },
    {
      "cell_type": "code",
      "metadata": {
        "colab": {
          "base_uri": "https://localhost:8080/"
        },
        "id": "hFMZfM7VpjSZ",
        "outputId": "ebd4ef84-e51b-42ff-ec76-f467af26b5e2"
      },
      "source": [
        "X = np.asarray(df[['Age','Gender','Under_30','Married','Dependents','Senior_Citizen','Satisfaction_Score','Total_revenue']])\n",
        "X[0:5]"
      ],
      "execution_count": null,
      "outputs": [
        {
          "output_type": "execute_result",
          "data": {
            "text/plain": [
              "array([[ 1.88011037,  1.        ,  0.        ,  0.        ,  0.        ,\n",
              "         1.        ,  3.        , -1.03829944],\n",
              "       [ 1.64129246,  0.        ,  0.        ,  1.        ,  1.        ,\n",
              "         1.        ,  3.        , -0.70166781],\n",
              "       [ 1.46217902,  1.        ,  0.        ,  0.        ,  1.        ,\n",
              "         1.        ,  2.        , -0.39214611],\n",
              "       [ 1.88011037,  0.        ,  0.        ,  1.        ,  1.        ,\n",
              "         1.        ,  2.        , -0.01372043],\n",
              "       [ 1.99951933,  0.        ,  0.        ,  1.        ,  1.        ,\n",
              "         1.        ,  2.        ,  0.02372807]])"
            ]
          },
          "metadata": {},
          "execution_count": 7
        }
      ]
    },
    {
      "cell_type": "code",
      "metadata": {
        "colab": {
          "base_uri": "https://localhost:8080/"
        },
        "id": "w2p2-lnvwIOY",
        "outputId": "7d534faf-c9c6-410a-c389-b84ad0e7c399"
      },
      "source": [
        "y = np.asarray(df['Churn_Label'])\n",
        "y [0:5]"
      ],
      "execution_count": null,
      "outputs": [
        {
          "output_type": "execute_result",
          "data": {
            "text/plain": [
              "array([1, 1, 1, 1, 1])"
            ]
          },
          "metadata": {},
          "execution_count": 8
        }
      ]
    },
    {
      "cell_type": "code",
      "metadata": {
        "colab": {
          "base_uri": "https://localhost:8080/"
        },
        "id": "jXqJDkIWwRhn",
        "outputId": "e5506aa8-a70d-41f6-e7d5-959b55773370"
      },
      "source": [
        "from sklearn import preprocessing\n",
        "X = preprocessing.StandardScaler().fit(X).transform(X)\n",
        "X[0:5]"
      ],
      "execution_count": null,
      "outputs": [
        {
          "output_type": "execute_result",
          "data": {
            "text/plain": [
              "array([[ 1.88011037,  0.99053183, -0.49831336, -0.96662231, -0.54809324,\n",
              "         2.27315869, -0.20383637, -1.03829944],\n",
              "       [ 1.64129246, -1.00955867, -0.49831336,  1.03453023,  1.82450707,\n",
              "         2.27315869, -0.20383637, -0.70166781],\n",
              "       [ 1.46217902,  0.99053183, -0.49831336, -0.96662231,  1.82450707,\n",
              "         2.27315869, -1.0360796 , -0.39214611],\n",
              "       [ 1.88011037, -1.00955867, -0.49831336,  1.03453023,  1.82450707,\n",
              "         2.27315869, -1.0360796 , -0.01372043],\n",
              "       [ 1.99951933, -1.00955867, -0.49831336,  1.03453023,  1.82450707,\n",
              "         2.27315869, -1.0360796 ,  0.02372807]])"
            ]
          },
          "metadata": {},
          "execution_count": 9
        }
      ]
    },
    {
      "cell_type": "markdown",
      "metadata": {
        "id": "Ct69O6_J2mNP"
      },
      "source": [
        "### Train & Test Data Set"
      ]
    },
    {
      "cell_type": "code",
      "metadata": {
        "colab": {
          "base_uri": "https://localhost:8080/"
        },
        "id": "LA65gOKWwWXP",
        "outputId": "b3f09368-e1de-4c69-d115-b946c8ddfe17"
      },
      "source": [
        "from sklearn.model_selection import train_test_split\n",
        "X_train, X_test, y_train, y_test = train_test_split( X, y, test_size=0.2, random_state=16)\n",
        "print ('Train set:', X_train.shape,  y_train.shape)\n",
        "print ('Test set:', X_test.shape,  y_test.shape)"
      ],
      "execution_count": null,
      "outputs": [
        {
          "output_type": "stream",
          "name": "stdout",
          "text": [
            "Train set: (5634, 8) (5634,)\n",
            "Test set: (1409, 8) (1409,)\n"
          ]
        }
      ]
    },
    {
      "cell_type": "markdown",
      "metadata": {
        "id": "cCq9YTwKGpXU"
      },
      "source": [
        "## Logistic Regression"
      ]
    },
    {
      "cell_type": "code",
      "metadata": {
        "colab": {
          "base_uri": "https://localhost:8080/"
        },
        "id": "3Qh0ETBGwaX4",
        "outputId": "d7762931-9ba9-463a-ad5b-a9dfda0c9f2b"
      },
      "source": [
        "from sklearn.linear_model import LogisticRegression\n",
        "from sklearn.metrics import confusion_matrix\n",
        "LR = LogisticRegression(C=0.01, solver='liblinear').fit(X_train,y_train)\n",
        "LR"
      ],
      "execution_count": null,
      "outputs": [
        {
          "output_type": "execute_result",
          "data": {
            "text/plain": [
              "LogisticRegression(C=0.01, class_weight=None, dual=False, fit_intercept=True,\n",
              "                   intercept_scaling=1, l1_ratio=None, max_iter=100,\n",
              "                   multi_class='auto', n_jobs=None, penalty='l2',\n",
              "                   random_state=None, solver='liblinear', tol=0.0001, verbose=0,\n",
              "                   warm_start=False)"
            ]
          },
          "metadata": {},
          "execution_count": 11
        }
      ]
    },
    {
      "cell_type": "code",
      "metadata": {
        "colab": {
          "base_uri": "https://localhost:8080/"
        },
        "id": "QyvqebWgwfYZ",
        "outputId": "24983ff2-0475-4f71-a8ff-352f244cc1cd"
      },
      "source": [
        "yhat = LR.predict(X_test)\n",
        "yhat"
      ],
      "execution_count": null,
      "outputs": [
        {
          "output_type": "execute_result",
          "data": {
            "text/plain": [
              "array([0, 1, 1, ..., 0, 0, 0])"
            ]
          },
          "metadata": {},
          "execution_count": 12
        }
      ]
    },
    {
      "cell_type": "code",
      "metadata": {
        "colab": {
          "base_uri": "https://localhost:8080/"
        },
        "id": "uI7FvaNgwiqG",
        "outputId": "d766c72e-46be-4906-b812-7cfa9a730b1b"
      },
      "source": [
        "yhat_prob = LR.predict_proba(X_test)\n",
        "yhat_prob"
      ],
      "execution_count": null,
      "outputs": [
        {
          "output_type": "execute_result",
          "data": {
            "text/plain": [
              "array([[0.79165913, 0.20834087],\n",
              "       [0.26009625, 0.73990375],\n",
              "       [0.04518992, 0.95481008],\n",
              "       ...,\n",
              "       [0.94382363, 0.05617637],\n",
              "       [0.91618881, 0.08381119],\n",
              "       [0.95792711, 0.04207289]])"
            ]
          },
          "metadata": {},
          "execution_count": 13
        }
      ]
    },
    {
      "cell_type": "markdown",
      "metadata": {
        "id": "kLl8l4lFGxRc"
      },
      "source": [
        "### Evaluation"
      ]
    },
    {
      "cell_type": "code",
      "metadata": {
        "colab": {
          "base_uri": "https://localhost:8080/"
        },
        "id": "IbZncGkawlbf",
        "outputId": "acd2306e-b182-4109-932b-2abc4a8cdcf3"
      },
      "source": [
        "from sklearn.metrics import jaccard_similarity_score\n",
        "jaccard_similarity_score(y_test, yhat)"
      ],
      "execution_count": null,
      "outputs": [
        {
          "output_type": "stream",
          "name": "stderr",
          "text": [
            "/usr/local/lib/python3.7/dist-packages/sklearn/metrics/_classification.py:664: FutureWarning: jaccard_similarity_score has been deprecated and replaced with jaccard_score. It will be removed in version 0.23. This implementation has surprising behavior for binary and multiclass classification tasks.\n",
            "  FutureWarning)\n"
          ]
        },
        {
          "output_type": "execute_result",
          "data": {
            "text/plain": [
              "0.9368346344925479"
            ]
          },
          "metadata": {},
          "execution_count": 14
        }
      ]
    },
    {
      "cell_type": "code",
      "metadata": {
        "colab": {
          "base_uri": "https://localhost:8080/"
        },
        "id": "RYGll6kQwo_f",
        "outputId": "808ad2b8-ceeb-4312-80d0-9cbdd60e22c1"
      },
      "source": [
        "acc_LR = metrics.accuracy_score(y_test, yhat)\n",
        "prec_LR = metrics.precision_score(y_test, yhat)\n",
        "rec_LR = metrics.recall_score(y_test, yhat)\n",
        "f1_LR = metrics.f1_score(y_test, yhat)\n",
        "kappa_LR = metrics.cohen_kappa_score(y_test, yhat)\n",
        "print(\"Accuracy:\", acc_LR)\n",
        "print(\"Precision:\", prec_LR)\n",
        "print(\"Recall:\", rec_LR)\n",
        "print(\"F1 Score:\", f1_LR)\n",
        "print(\"Cohens Kappa Score:\", kappa_LR)"
      ],
      "execution_count": null,
      "outputs": [
        {
          "output_type": "stream",
          "name": "stdout",
          "text": [
            "Accuracy: 0.9368346344925479\n",
            "Precision: 0.9695945945945946\n",
            "Recall: 0.782016348773842\n",
            "F1 Score: 0.8657616892911011\n",
            "Cohens Kappa Score: 0.8250795435365733\n"
          ]
        }
      ]
    },
    {
      "cell_type": "code",
      "metadata": {
        "colab": {
          "base_uri": "https://localhost:8080/"
        },
        "id": "_p71l3MaxPn4",
        "outputId": "003d5b4e-44b4-4c6a-dc22-1f4d696b67f7"
      },
      "source": [
        "from sklearn.metrics import classification_report, confusion_matrix\n",
        "import itertools\n",
        "def plot_confusion_matrix(cm, classes,\n",
        "                          normalize=False,\n",
        "                          title='Confusion matrix',\n",
        "                          cmap=plt.cm.Blues):\n",
        "    \"\"\"\n",
        "    This function prints and plots the confusion matrix.\n",
        "    Normalization can be applied by setting `normalize=True`.\n",
        "    \"\"\"\n",
        "    if normalize:\n",
        "        cm = cm.astype('float') / cm.sum(axis=1)[:, np.newaxis]\n",
        "        print(\"Normalized confusion matrix\")\n",
        "    else:\n",
        "        print('Confusion matrix, without normalization')\n",
        "\n",
        "    print(cm)\n",
        "\n",
        "    plt.imshow(cm, interpolation='nearest', cmap=cmap)\n",
        "    plt.title(title)\n",
        "    plt.colorbar()\n",
        "    tick_marks = np.arange(len(classes))\n",
        "    plt.xticks(tick_marks, classes, rotation=45)\n",
        "    plt.yticks(tick_marks, classes)\n",
        "\n",
        "    fmt = '.2f' if normalize else 'd'\n",
        "    thresh = cm.max() / 2.\n",
        "    for i, j in itertools.product(range(cm.shape[0]), range(cm.shape[1])):\n",
        "        plt.text(j, i, format(cm[i, j], fmt),\n",
        "                 horizontalalignment=\"center\",\n",
        "                 color=\"white\" if cm[i, j] > thresh else \"black\")\n",
        "\n",
        "    plt.tight_layout()\n",
        "    plt.ylabel('True label')\n",
        "    plt.xlabel('Predicted label')\n",
        "print(confusion_matrix(y_test, yhat, labels=[1,0]))"
      ],
      "execution_count": null,
      "outputs": [
        {
          "output_type": "stream",
          "name": "stdout",
          "text": [
            "[[ 287   80]\n",
            " [   9 1033]]\n"
          ]
        }
      ]
    },
    {
      "cell_type": "code",
      "metadata": {
        "colab": {
          "base_uri": "https://localhost:8080/"
        },
        "id": "aHAzLRbxxZoH",
        "outputId": "cacaa3ac-dc0b-4182-a4f2-f19062c6135e"
      },
      "source": [
        "# Compute confusion matrix\n",
        "cnf_matrix = confusion_matrix(y_test, yhat, labels=[1,0])\n",
        "np.set_printoptions(precision=2)\n",
        "\n",
        "\n",
        "# Plot non-normalized confusion matrix\n",
        "plt.figure()\n",
        "plot_confusion_matrix(cnf_matrix, classes=['Churn=1','Churn=0'],normalize= False,  title='Confusion matrix')"
      ],
      "execution_count": null,
      "outputs": [
        {
          "output_type": "stream",
          "name": "stdout",
          "text": [
            "Confusion matrix, without normalization\n",
            "[[ 287   80]\n",
            " [   9 1033]]\n"
          ]
        },
        {
          "output_type": "display_data",
          "data": {
            "image/png": "[encoded data removed]",
            "text/plain": [
              "<Figure size 432x288 with 2 Axes>"
            ]
          },
          "metadata": {
            "needs_background": "light"
          }
        }
      ]
    },
    {
      "cell_type": "code",
      "metadata": {
        "colab": {
          "base_uri": "https://localhost:8080/"
        },
        "id": "ts-TA_ofyJNw",
        "outputId": "3b3c7406-dd90-4928-c607-e461d257875c"
      },
      "source": [
        "print (classification_report(y_test, yhat))"
      ],
      "execution_count": null,
      "outputs": [
        {
          "output_type": "stream",
          "name": "stdout",
          "text": [
            "              precision    recall  f1-score   support\n",
            "\n",
            "           0       0.93      0.99      0.96      1042\n",
            "           1       0.97      0.78      0.87       367\n",
            "\n",
            "    accuracy                           0.94      1409\n",
            "   macro avg       0.95      0.89      0.91      1409\n",
            "weighted avg       0.94      0.94      0.93      1409\n",
            "\n"
          ]
        }
      ]
    },
    {
      "cell_type": "code",
      "metadata": {
        "colab": {
          "base_uri": "https://localhost:8080/"
        },
        "id": "izQPwpUyyy2v",
        "outputId": "6f2f3d3b-35f1-4b8a-d94a-d754218be23e"
      },
      "source": [
        "from sklearn.metrics import log_loss\n",
        "log_loss(y_test, yhat_prob)"
      ],
      "execution_count": null,
      "outputs": [
        {
          "output_type": "execute_result",
          "data": {
            "text/plain": [
              "0.20216516322531483"
            ]
          },
          "metadata": {},
          "execution_count": 19
        }
      ]
    },
    {
      "cell_type": "code",
      "metadata": {
        "colab": {
          "base_uri": "https://localhost:8080/"
        },
        "id": "zTkssvgIy0cw",
        "outputId": "1d3f9734-bfc7-481c-a3b7-2983d6dc9a00"
      },
      "source": [
        "# ROC Curve\n",
        "yhat_prob = LR.predict_proba(X_test) [::,1]\n",
        "fprLR, tprLR, _ = metrics.roc_curve(y_test,  yhat_prob)\n",
        "auclr = metrics.roc_auc_score(y_test, yhat_prob)\n",
        "plt.plot(fprLR,tprLR,label=\"Logistic Regression, auc=\"+str(auclr), color=\"orange\")\n",
        "plt.title('ROC Curve - Logistic Regression')\n",
        "plt.xlabel('false positive rate') \n",
        "plt.ylabel('true positive rate')\n",
        "plt.legend(loc=4)\n",
        "\n",
        "plt.show()"
      ],
      "execution_count": null,
      "outputs": [
        {
          "output_type": "display_data",
          "data": {
            "image/png": "[encoded data removed]",
            "text/plain": [
              "<Figure size 432x288 with 1 Axes>"
            ]
          },
          "metadata": {
            "needs_background": "light"
          }
        }
      ]
    },
    {
      "cell_type": "markdown",
      "metadata": {
        "id": "OEBE03VNGiF7"
      },
      "source": [
        "## Naive Bayes Classifier"
      ]
    },
    {
      "cell_type": "code",
      "metadata": {
        "id": "4wT5I8eKznd5"
      },
      "source": [
        "# Modeling Naive Bayes Classifier\n",
        "gnb = GaussianNB()\n",
        "gnb.fit(X_train, y_train)\n",
        "\n",
        "# Predict to Test Data\n",
        "y_gnb= gnb.predict(X_test)"
      ],
      "execution_count": null,
      "outputs": []
    },
    {
      "cell_type": "code",
      "metadata": {
        "colab": {
          "base_uri": "https://localhost:8080/"
        },
        "id": "kOhxhAhc1FFP",
        "outputId": "134a42ca-bbf1-40dc-e4d8-7604610992ce"
      },
      "source": [
        "acc_gnb = metrics.accuracy_score(y_test, y_gnb)\n",
        "prec_gnb = metrics.precision_score(y_test, y_gnb)\n",
        "rec_gnb = metrics.recall_score(y_test, y_gnb)\n",
        "f1_gnb = metrics.f1_score(y_test, y_gnb)\n",
        "kappa_gnb = metrics.cohen_kappa_score(y_test, y_gnb)\n",
        "\n",
        "print(\"Accuracy:\", acc_gnb)\n",
        "print(\"Precision:\", prec_gnb)\n",
        "print(\"Recall:\", rec_gnb)\n",
        "print(\"F1 Score:\", f1_gnb)\n",
        "print(\"Cohens Kappa Score:\", kappa_gnb)"
      ],
      "execution_count": null,
      "outputs": [
        {
          "output_type": "stream",
          "name": "stdout",
          "text": [
            "Accuracy: 0.9041873669268985\n",
            "Precision: 0.8558282208588958\n",
            "Recall: 0.7602179836512262\n",
            "F1 Score: 0.8051948051948052\n",
            "Cohens Kappa Score: 0.7419599458999693\n"
          ]
        }
      ]
    },
    {
      "cell_type": "code",
      "metadata": {
        "colab": {
          "base_uri": "https://localhost:8080/"
        },
        "id": "5l1VZkJc1HWG",
        "outputId": "29cc950c-cf3b-4748-ddf9-12f95125405d"
      },
      "source": [
        "from sklearn.metrics import classification_report, confusion_matrix\n",
        "import itertools\n",
        "\n",
        "def plot_confusion_matrix(cm, classes,\n",
        "                          normalize=False,\n",
        "                          title='Confusion matrix',\n",
        "                          cmap=plt.cm.Blues):\n",
        "    \"\"\"\n",
        "    This function prints and plots the confusion matrix.\n",
        "    Normalization can be applied by setting `normalize=True`.\n",
        "    \"\"\"\n",
        "    if normalize:\n",
        "        cm = cm.astype('float') / cm.sum(axis=1)[:, np.newaxis]\n",
        "        print(\"Normalized confusion matrix\")\n",
        "    else:\n",
        "        print('Confusion matrix, without normalization')\n",
        "\n",
        "    print(cm)\n",
        "\n",
        "    plt.imshow(cm, interpolation='nearest', cmap=cmap)\n",
        "    plt.title(title)\n",
        "    plt.colorbar()\n",
        "    tick_marks = np.arange(len(classes))\n",
        "    plt.xticks(tick_marks, classes, rotation=45)\n",
        "    plt.yticks(tick_marks, classes)\n",
        "\n",
        "    fmt = '.2f' if normalize else 'd'\n",
        "    thresh = cm.max() / 2.\n",
        "    for i, j in itertools.product(range(cm.shape[0]), range(cm.shape[1])):\n",
        "        plt.text(j, i, format(cm[i, j], fmt),\n",
        "                 horizontalalignment=\"center\",\n",
        "                 color=\"white\" if cm[i, j] > thresh else \"black\")\n",
        "\n",
        "    plt.tight_layout()\n",
        "    plt.ylabel('True label')\n",
        "    plt.xlabel('Predicted label')\n",
        "print(confusion_matrix(y_test, y_gnb, labels=[1,0]))"
      ],
      "execution_count": null,
      "outputs": [
        {
          "output_type": "stream",
          "name": "stdout",
          "text": [
            "[[279  88]\n",
            " [ 47 995]]\n"
          ]
        }
      ]
    },
    {
      "cell_type": "code",
      "metadata": {
        "colab": {
          "base_uri": "https://localhost:8080/"
        },
        "id": "dqfLIfAP1KHG",
        "outputId": "34c9c94f-6a13-483f-8c21-066e79db2edd"
      },
      "source": [
        "# Compute confusion matrix\n",
        "cnf_matrix = confusion_matrix(y_test, y_gnb, labels=[1,0])\n",
        "np.set_printoptions(precision=2)\n",
        "\n",
        "\n",
        "# Plot non-normalized confusion matrix\n",
        "plt.figure()\n",
        "plot_confusion_matrix(cnf_matrix, classes=['Churn=1','Churn=0'],normalize= False,  title='Confusion matrix')"
      ],
      "execution_count": null,
      "outputs": [
        {
          "output_type": "stream",
          "name": "stdout",
          "text": [
            "Confusion matrix, without normalization\n",
            "[[279  88]\n",
            " [ 47 995]]\n"
          ]
        },
        {
          "output_type": "display_data",
          "data": {
            "image/png": "[encoded data removed]",
            "text/plain": [
              "<Figure size 432x288 with 2 Axes>"
            ]
          },
          "metadata": {
            "needs_background": "light"
          }
        }
      ]
    },
    {
      "cell_type": "code",
      "metadata": {
        "colab": {
          "base_uri": "https://localhost:8080/"
        },
        "id": "JVrjGnkS1SJ-",
        "outputId": "9da95628-f34f-4c36-89a7-51438cb4528f"
      },
      "source": [
        "# ROC Curve\n",
        "y_gnb_prob = gnb.predict_proba(X_test)[::,1]\n",
        "fprgnb, tprgnb, _ = metrics.roc_curve(y_test,  y_gnb_prob)\n",
        "aucgnb = metrics.roc_auc_score(y_test, y_gnb_prob)\n",
        "plt.plot(fprgnb,tprgnb,label=\"Naive Bayes, auc=\"+str(aucgnb),color=\"green\")\n",
        "plt.title('ROC Curve - Naive Bayes')\n",
        "plt.xlabel('false positive rate') \n",
        "plt.ylabel('true positive rate')\n",
        "plt.legend(loc=4)\n",
        "plt.show()"
      ],
      "execution_count": null,
      "outputs": [
        {
          "output_type": "display_data",
          "data": {
            "image/png": "[encoded data removed]",
            "text/plain": [
              "<Figure size 432x288 with 1 Axes>"
            ]
          },
          "metadata": {
            "needs_background": "light"
          }
        }
      ]
    },
    {
      "cell_type": "markdown",
      "metadata": {
        "id": "4RkOtEWvGfZZ"
      },
      "source": [
        "## Plot Perbandingan"
      ]
    },
    {
      "cell_type": "code",
      "metadata": {
        "colab": {
          "base_uri": "https://localhost:8080/"
        },
        "id": "ZQIQmrpV1WoG",
        "outputId": "5eb1440a-5f48-4561-b478-a0d681e3f920"
      },
      "source": [
        "plt.plot(fprLR,tprLR,label=\"Logistic Regression, auc=\"+str(auclr))\n",
        "plt.plot(fprgnb,tprgnb,label=\"Naive Bayes, auc=\"+str(aucgnb))\n",
        "plt.title('ROC Curve')\n",
        "plt.xlabel('False Positive Rate')\n",
        "plt.ylabel('True Positive Rate')\n",
        "plt.legend(loc=4)\n",
        "plt.show()"
      ],
      "execution_count": null,
      "outputs": [
        {
          "output_type": "display_data",
          "data": {
            "image/png": "[encoded data removed]",
            "text/plain": [
              "<Figure size 432x288 with 1 Axes>"
            ]
          },
          "metadata": {
            "needs_background": "light"
          }
        }
      ]
    },
    {
      "cell_type": "markdown",
      "metadata": {
        "id": "UovYpc-QGTii"
      },
      "source": [
        "## Soal 12"
      ]
    },
    {
      "cell_type": "code",
      "metadata": {
        "id": "HNNv3vwC5Zvi"
      },
      "source": [
        "y_prediksi =  LR.predict(X)"
      ],
      "execution_count": null,
      "outputs": []
    },
    {
      "cell_type": "code",
      "metadata": {
        "id": "R4NWdxou5vCA"
      },
      "source": [
        "Pelanggan_churn = np.count_nonzero(y_prediksi  == 1)\n",
        "Pelanggan_tdkchurn = np.count_nonzero(y_prediksi  == 0)"
      ],
      "execution_count": null,
      "outputs": []
    },
    {
      "cell_type": "code",
      "metadata": {
        "colab": {
          "base_uri": "https://localhost:8080/"
        },
        "id": "iM1YK5vm7Ffo",
        "outputId": "5be8e0e6-5432-47fe-f0af-14697e19a6c8"
      },
      "source": [
        "print(\"Jumlah prediksi pelanggan yang akan berpindah (churn) adalah sebesar\", Pelanggan_churn,\"orang\")"
      ],
      "execution_count": null,
      "outputs": [
        {
          "output_type": "stream",
          "name": "stdout",
          "text": [
            "Jumlah prediksi pelanggan yang akan berpindah (churn) adalah sebesar 1503 orang\n"
          ]
        }
      ]
    }
  ]
}